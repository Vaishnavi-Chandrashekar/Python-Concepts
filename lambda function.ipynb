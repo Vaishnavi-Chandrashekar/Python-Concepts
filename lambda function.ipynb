{
 "cells": [
  {
   "cell_type": "markdown",
   "id": "4737087a",
   "metadata": {},
   "source": [
    "# Lambda Function\n",
    "* Lambda functions are anonymous function, i.e function without a name.\n",
    "* Lambda keyword is used to define an anonymous function in python\n",
    "* This function can have any number of arguments but only one expression, which is evaluated and returned.\n",
    "* One is free to use lambda functions wherever function objects are required.\n",
    "* Syntax: lambda argument(s): expression"
   ]
  },
  {
   "cell_type": "code",
   "execution_count": 1,
   "id": "36899f7d",
   "metadata": {},
   "outputs": [
    {
     "data": {
      "text/plain": [
       "False"
      ]
     },
     "execution_count": 1,
     "metadata": {},
     "output_type": "execute_result"
    }
   ],
   "source": [
    "#example 1\n",
    "#checking if the number is even \n",
    "number = lambda a: a%2==0\n",
    "number(5)"
   ]
  },
  {
   "cell_type": "code",
   "execution_count": 2,
   "id": "9ad9be4b",
   "metadata": {},
   "outputs": [
    {
     "data": {
      "text/plain": [
       "35"
      ]
     },
     "execution_count": 2,
     "metadata": {},
     "output_type": "execute_result"
    }
   ],
   "source": [
    "#example 2\n",
    "sum = lambda a,b: a+b\n",
    "sum(12,23)"
   ]
  },
  {
   "cell_type": "code",
   "execution_count": 3,
   "id": "217b470f",
   "metadata": {},
   "outputs": [
    {
     "data": {
      "text/plain": [
       "45"
      ]
     },
     "execution_count": 3,
     "metadata": {},
     "output_type": "execute_result"
    }
   ],
   "source": [
    "#example 3\n",
    "#using lambda function or exp inside another function\n",
    "def func(x):\n",
    "    func2 = lambda x:x+5\n",
    "    return func2(x) + 30\n",
    "\n",
    "func(10)"
   ]
  },
  {
   "cell_type": "code",
   "execution_count": 4,
   "id": "54c9891a",
   "metadata": {},
   "outputs": [
    {
     "name": "stdout",
     "output_type": "stream",
     "text": [
      "22\n",
      "33\n"
     ]
    }
   ],
   "source": [
    "#example 4\n",
    "def myfunc(n):\n",
    "    return lambda a : a*n\n",
    "\n",
    "double = myfunc(2)\n",
    "triple = myfunc(3)\n",
    "\n",
    "print(double(11))\n",
    "print(triple(11))"
   ]
  },
  {
   "cell_type": "code",
   "execution_count": 5,
   "id": "a14779f2",
   "metadata": {},
   "outputs": [
    {
     "name": "stdout",
     "output_type": "stream",
     "text": [
      "Hey there, June\n"
     ]
    }
   ],
   "source": [
    "#example 5\n",
    "\n",
    "#lambda that accepts one argument\n",
    "greet_user = lambda name : print('Hey there,', name)\n",
    "\n",
    "#lambda call\n",
    "greet_user('June')"
   ]
  }
 ],
 "metadata": {
  "kernelspec": {
   "display_name": "Python 3 (ipykernel)",
   "language": "python",
   "name": "python3"
  },
  "language_info": {
   "codemirror_mode": {
    "name": "ipython",
    "version": 3
   },
   "file_extension": ".py",
   "mimetype": "text/x-python",
   "name": "python",
   "nbconvert_exporter": "python",
   "pygments_lexer": "ipython3",
   "version": "3.9.12"
  }
 },
 "nbformat": 4,
 "nbformat_minor": 5
}
