{
 "cells": [
  {
   "cell_type": "markdown",
   "id": "3433f572",
   "metadata": {},
   "source": [
    "#  * *args and **kwargs in python\n",
    "\n",
    "▫ *args and **kwargs are special keyword which allows function to take variable length argument.\n",
    "\n",
    "▫ *args passes variable number of non-keyworded arguments and on which operation of the tuple can be performed. *args receives arguments as a tuple.\n",
    "\n",
    "▫ **kwargs passes variable number of keyword arguments dictionary to function on which operation of a dictionary can be performed. **kwargs receives arguments as a dictionary.\n",
    "\n",
    "▫ *args and **kwargs make the function flexible."
   ]
  },
  {
   "cell_type": "markdown",
   "id": "693fb8dc",
   "metadata": {},
   "source": [
    "#  *args (Arguments or non keyword arguments)"
   ]
  },
  {
   "cell_type": "markdown",
   "id": "30c6d11c",
   "metadata": {},
   "source": [
    "The special syntax *args in function definitions in Python is used to pass a variable number of arguments to a function. It is used to pass a non-keyworded, variable-length argument list. "
   ]
  },
  {
   "cell_type": "code",
   "execution_count": 1,
   "id": "4645a414",
   "metadata": {},
   "outputs": [
    {
     "name": "stdout",
     "output_type": "stream",
     "text": [
      "3\n",
      "6\n",
      "9\n",
      "12\n",
      "15\n"
     ]
    }
   ],
   "source": [
    "#example\n",
    "def multiply(*args):\n",
    "    for i in args:\n",
    "        c = 3*i\n",
    "        print(c)\n",
    "        \n",
    "multiply(1,2,3,4,5)"
   ]
  },
  {
   "cell_type": "code",
   "execution_count": 2,
   "id": "470a1c42",
   "metadata": {},
   "outputs": [
    {
     "name": "stdout",
     "output_type": "stream",
     "text": [
      "arguments \n",
      "and \n",
      "keyword \n",
      "arguments \n"
     ]
    }
   ],
   "source": [
    "def sentence(*words):\n",
    "    for i in words:\n",
    "        print(i,'')\n",
    "        \n",
    "sentence('arguments', 'and', 'keyword', 'arguments')"
   ]
  },
  {
   "cell_type": "code",
   "execution_count": 3,
   "id": "106a4a9b",
   "metadata": {},
   "outputs": [
    {
     "name": "stdout",
     "output_type": "stream",
     "text": [
      "First argument : Hello\n",
      "Next argument through *args : Welcome\n",
      "Next argument through *args : to\n",
      "Next argument through *args : Python\n"
     ]
    }
   ],
   "source": [
    "def example(arg1, *args):\n",
    "    print(\"First argument :\", arg1)\n",
    "    for arg in args:\n",
    "        print(\"Next argument through *args :\", arg)\n",
    "\n",
    "\n",
    "example('Hello', 'Welcome', 'to', 'Python')"
   ]
  },
  {
   "cell_type": "code",
   "execution_count": 4,
   "id": "acd7d9ef",
   "metadata": {},
   "outputs": [
    {
     "name": "stdout",
     "output_type": "stream",
     "text": [
      "The color of apple is red\n",
      "The taste of kiwi is sour\n"
     ]
    }
   ],
   "source": [
    "# defining fruits class\n",
    "class fruits():\n",
    "    # args receives unlimited no. of arguments as an array\n",
    "    def __init__(self, *args):\n",
    "        # access args index like array does\n",
    "        self.color = args[0]\n",
    "        self.taste = args[1]\n",
    "\n",
    "\n",
    "# creating objects of fruits class\n",
    "kiwi = fruits('green', 'sour')\n",
    "apple = fruits('red', 'sweet')\n",
    "\n",
    "# printing the color and taste of the fruits\n",
    "print('The color of apple is',apple.color)\n",
    "print('The taste of kiwi is {}'.format(kiwi.taste))"
   ]
  },
  {
   "cell_type": "markdown",
   "id": "59c4fba9",
   "metadata": {},
   "source": [
    "# **kwargs (Keyword Arguments)"
   ]
  },
  {
   "cell_type": "markdown",
   "id": "866ec6e2",
   "metadata": {},
   "source": [
    "The special syntax **kwargs in function definitions in Python is used to pass a keyworded, variable-length argument list. We use the name kwargs with the double star. The reason is that the double star allows us to pass through keyword arguments (and any number of them)."
   ]
  },
  {
   "cell_type": "code",
   "execution_count": 5,
   "id": "b340edeb",
   "metadata": {
    "scrolled": true
   },
   "outputs": [
    {
     "name": "stdout",
     "output_type": "stream",
     "text": [
      "a 10\n",
      "b 20\n",
      "c 30\n",
      "d 40\n"
     ]
    }
   ],
   "source": [
    "#example\n",
    "def example(**kwargs):\n",
    "    for key, value in kwargs.items():\n",
    "        print(key,value)\n",
    "        \n",
    "example(a=10, b=20, c=30, d=40)"
   ]
  },
  {
   "cell_type": "code",
   "execution_count": 6,
   "id": "10af5172",
   "metadata": {},
   "outputs": [
    {
     "name": "stdout",
     "output_type": "stream",
     "text": [
      "Palindrome Words\n",
      "MOM == MOM\n",
      "radar == radar\n",
      "civic == civic\n"
     ]
    }
   ],
   "source": [
    "def abc(arg1, **words):\n",
    "    print('Palindrome', arg1)\n",
    "    for i, j in words.items():\n",
    "        print(\"%s == %s\" % (i, j))\n",
    "\n",
    "\n",
    "abc(\"Words\", MOM='MOM', radar='radar', civic='civic')"
   ]
  },
  {
   "cell_type": "code",
   "execution_count": 7,
   "id": "a2479a4f",
   "metadata": {},
   "outputs": [
    {
     "name": "stdout",
     "output_type": "stream",
     "text": [
      "\n",
      "Data type of argument: <class 'dict'>\n",
      "Firstname is abc\n",
      "Lastname is def\n",
      "Age is 22\n",
      "Phone is 1234567890\n",
      "\n",
      "Data type of argument: <class 'dict'>\n",
      "Firstname is ghi\n",
      "Lastname is jkl\n",
      "Email is ghijkl@nomail.com\n",
      "Country is India\n",
      "Age is 23\n",
      "Phone is 9876543210\n"
     ]
    }
   ],
   "source": [
    "def intro(**data):\n",
    "    print(\"\\nData type of argument:\",type(data))\n",
    "\n",
    "    for key, value in data.items():\n",
    "        print(\"{} is {}\".format(key,value))\n",
    "\n",
    "intro(Firstname=\"abc\", Lastname=\"def\", Age=22, Phone=1234567890)\n",
    "intro(Firstname=\"ghi\", Lastname=\"jkl\", Email=\"ghijkl@nomail.com\", Country=\"India\", Age=23, Phone=9876543210)"
   ]
  },
  {
   "cell_type": "code",
   "execution_count": 8,
   "id": "62d3bd60",
   "metadata": {},
   "outputs": [
    {
     "name": "stdout",
     "output_type": "stream",
     "text": [
      "The color of apple is red\n",
      "The taste of kiwi is sour\n"
     ]
    }
   ],
   "source": [
    "# defining fruits class\n",
    "class fruits():\n",
    "    # args receives unlimited no. of arguments as an array\n",
    "    def __init__(self, **kwargs):\n",
    "        # access args index like array does\n",
    "        self.color = kwargs['c']\n",
    "        self.taste = kwargs['t']\n",
    "\n",
    "\n",
    "# creating objects of fruits class\n",
    "kiwi = fruits(c='green', t='sour')\n",
    "apple = fruits(c='red', t='sweet')\n",
    "# printing the color and taste of the fruits\n",
    "print('The color of apple is',apple.color)\n",
    "print('The taste of kiwi is {}'.format(kiwi.taste))\n"
   ]
  },
  {
   "cell_type": "code",
   "execution_count": 9,
   "id": "dc0ae839",
   "metadata": {},
   "outputs": [
    {
     "name": "stdout",
     "output_type": "stream",
     "text": [
      "args:  ('hello', 'world')\n",
      "kwargs:  {'first': 'hello', 'last': 'world'}\n"
     ]
    }
   ],
   "source": [
    "def example(*args, **kwargs):\n",
    "    print(\"args: \", args)\n",
    "    print(\"kwargs: \", kwargs)\n",
    "\n",
    "\n",
    "# Now we can use both *args ,**kwargs\n",
    "# to pass arguments to this function :\n",
    "example('hello', 'world', first=\"hello\", last=\"world\")"
   ]
  },
  {
   "cell_type": "code",
   "execution_count": 10,
   "id": "7dd27ce9",
   "metadata": {},
   "outputs": [
    {
     "name": "stdout",
     "output_type": "stream",
     "text": [
      "2\n",
      "4\n",
      "34\n",
      "78\n"
     ]
    }
   ],
   "source": [
    "#print only even numbers\n",
    "def even(*args, b=5):\n",
    "    for elem in args:\n",
    "        if elem %2 == 0:\n",
    "            print(elem)\n",
    "            \n",
    "even(1,2,3,4,65,34,23,78)"
   ]
  },
  {
   "cell_type": "code",
   "execution_count": 11,
   "id": "bd8c3ac3",
   "metadata": {},
   "outputs": [
    {
     "name": "stdout",
     "output_type": "stream",
     "text": [
      "12 is a even number\n",
      "python is a string\n",
      "33 is an odd number\n"
     ]
    }
   ],
   "source": [
    "#print if the input is odd, even or a string\n",
    "def my_func(*val, num=3):\n",
    "    for elem in val:\n",
    "        if type(elem) == str:\n",
    "            print('{} is a string'.format(elem))\n",
    "        elif type(elem) == int and elem % 2 == 0:\n",
    "            print('{} is a even number'.format(elem))\n",
    "        elif type(elem) == int and elem % 2 != 0:\n",
    "            print('{} is an odd number'.format(elem))\n",
    "        else:\n",
    "            print('others')\n",
    "            \n",
    "my_func(12,'python', 33)"
   ]
  }
 ],
 "metadata": {
  "kernelspec": {
   "display_name": "Python 3 (ipykernel)",
   "language": "python",
   "name": "python3"
  },
  "language_info": {
   "codemirror_mode": {
    "name": "ipython",
    "version": 3
   },
   "file_extension": ".py",
   "mimetype": "text/x-python",
   "name": "python",
   "nbconvert_exporter": "python",
   "pygments_lexer": "ipython3",
   "version": "3.9.12"
  }
 },
 "nbformat": 4,
 "nbformat_minor": 5
}
